{
 "cells": [
  {
   "cell_type": "code",
   "execution_count": null,
   "id": "f79697ad-f3a3-4649-ba2d-92e89542244b",
   "metadata": {},
   "outputs": [],
   "source": [
    "from langchain.chat_models import init_chat_model\n",
    "from typing import Annotated\n",
    "from typing_extensions import TypedDict\n",
    "from langgraph.graph import StateGraph, START, END\n",
    "from langgraph.graph.message import add_messages\n",
    "from langchain_core.tools import tool\n",
    "from langgraph.prebuilt import ToolNode, tools_condition\n",
    "import os\n",
    "import requests\n"
   ]
  },
  {
   "cell_type": "code",
   "execution_count": 2,
   "id": "f7b30a3f-15ef-48c9-8719-4ab730860638",
   "metadata": {},
   "outputs": [
    {
     "data": {
      "text/plain": [
       "True"
      ]
     },
     "execution_count": 2,
     "metadata": {},
     "output_type": "execute_result"
    }
   ],
   "source": [
    "from dotenv import load_dotenv\n",
    "load_dotenv()"
   ]
  },
  {
   "cell_type": "code",
   "execution_count": 3,
   "id": "cbe301d1-4d66-4530-9ffb-1f85c33a1a3b",
   "metadata": {},
   "outputs": [],
   "source": [
    "class State(TypedDict):\n",
    "    # Messages have the type \"list\". The `add_messages` function\n",
    "    # in the annotation defines how this state key should be updated\n",
    "    # (in this case, it appends messages to the list, rather than overwriting them)\n",
    "    messages: Annotated[list, add_messages]"
   ]
  },
  {
   "cell_type": "code",
   "execution_count": 5,
   "id": "4d789aa3",
   "metadata": {},
   "outputs": [],
   "source": [
    "@tool\n",
    "def get_stock_price(symbol: str) -> float:\n",
    "    \"\"\"Get the current stock price for a given ticker symbol.\"\"\"\n",
    "    return {\n",
    "        \"MSFT\": 305.22,\n",
    "        \"AAPL\": 174.55,\n",
    "        \"GOOGL\": 134.76,\n",
    "        \"AMZN\": 134.76,\n",
    "        \"TSLA\": 305.22,\n",
    "        \"VED\": 105.22,\n",
    "        \"META\": 205.22\n",
    "    }.get(symbol, 0.0)\n",
    "    \n",
    "tools = [get_stock_price]"
   ]
  },
  {
   "cell_type": "code",
   "execution_count": 6,
   "id": "ffd178b2",
   "metadata": {},
   "outputs": [],
   "source": [
    "llm = init_chat_model(\"google_genai:gemini-2.0-flash\")\n",
    "llm_with_tools = llm.bind_tools(tools)"
   ]
  },
  {
   "cell_type": "code",
   "execution_count": 12,
   "id": "ddc0fb0c",
   "metadata": {},
   "outputs": [],
   "source": [
    "def chatbot(state : State):\n",
    "    return {\"messages\": [llm_with_tools.invoke(state[\"messages\"])]}\n",
    "\n",
    "builder = StateGraph(State)\n",
    "builder.add_node(chatbot)\n",
    "builder.add_node(\"tools\", ToolNode(tools))\n",
    "\n",
    "builder.add_edge(START, \"chatbot\")\n",
    "builder.add_conditional_edges(\"chatbot\", tools_condition)\n",
    "\n",
    "graph = builder.compile()"
   ]
  },
  {
   "cell_type": "code",
   "execution_count": 13,
   "id": "8747fc07",
   "metadata": {},
   "outputs": [
    {
     "data": {
      "image/png": "[encoded data removed]",
      "text/plain": [
       "<IPython.core.display.Image object>"
      ]
     },
     "metadata": {},
     "output_type": "display_data"
    }
   ],
   "source": [
    "from IPython.display import Image, display\n",
    "\n",
    "display(Image(graph.get_graph().draw_mermaid_png()))"
   ]
  },
  {
   "cell_type": "code",
   "execution_count": 14,
   "id": "472a84c8",
   "metadata": {},
   "outputs": [
    {
     "name": "stdout",
     "output_type": "stream",
     "text": [
      "174.55\n"
     ]
    }
   ],
   "source": [
    "state = graph.invoke({\"messages\": [{\"role\": \"user\", \"content\": \"What is the price of AAPL stock right now?\"}]})\n",
    "print(state[\"messages\"][-1].content)"
   ]
  },
  {
   "cell_type": "code",
   "execution_count": 15,
   "id": "abcef762",
   "metadata": {},
   "outputs": [
    {
     "name": "stdout",
     "output_type": "stream",
     "text": [
      "Albert Einstein\n"
     ]
    }
   ],
   "source": [
    "state = graph.invoke({\"messages\": [{\"role\": \"user\", \"content\": \"Who invented theory of relativity? print person name only\"}]})\n",
    "print(state[\"messages\"][-1].content)"
   ]
  },
  {
   "cell_type": "code",
   "execution_count": 16,
   "id": "938637e5",
   "metadata": {},
   "outputs": [
    {
     "name": "stdout",
     "output_type": "stream",
     "text": [
      "305.22\n"
     ]
    }
   ],
   "source": [
    "msg = \"I want to buy 20 AMZN stocks using current price. Then 15 MSFT. What will be the total cost?\"\n",
    "\n",
    "state = graph.invoke({\"messages\": [{\"role\": \"user\", \"content\": msg}]})\n",
    "print(state[\"messages\"][-1].content)"
   ]
  },
  {
   "cell_type": "code",
   "execution_count": 20,
   "id": "3cfc2011",
   "metadata": {},
   "outputs": [
    {
     "data": {
      "text/plain": [
       "7273.5"
      ]
     },
     "execution_count": 20,
     "metadata": {},
     "output_type": "execute_result"
    }
   ],
   "source": [
    "(305.22 * 15) + (134.76 * 20)\n",
    "# because tools is called twice, once for each stock symbol but latest msft price is 305.22 is taken"
   ]
  }
 ],
 "metadata": {
  "kernelspec": {
   "display_name": "langgraph",
   "language": "python",
   "name": "python3"
  },
  "language_info": {
   "codemirror_mode": {
    "name": "ipython",
    "version": 3
   },
   "file_extension": ".py",
   "mimetype": "text/x-python",
   "name": "python",
   "nbconvert_exporter": "python",
   "pygments_lexer": "ipython3",
   "version": "3.11.9"
  }
 },
 "nbformat": 4,
 "nbformat_minor": 5
}
