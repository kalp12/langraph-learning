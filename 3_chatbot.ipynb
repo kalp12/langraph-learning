{
 "cells": [
  {
   "cell_type": "code",
   "execution_count": 1,
   "id": "f79697ad-f3a3-4649-ba2d-92e89542244b",
   "metadata": {},
   "outputs": [],
   "source": [
    "\n",
    "from typing import Annotated\n",
    "from dotenv import load_dotenv\n",
    "load_dotenv()\n",
    "\n",
    "from typing_extensions import TypedDict\n",
    "from langchain.chat_models import init_chat_model\n",
    "from langgraph.graph import StateGraph, START, END\n",
    "from langgraph.graph.message import add_messages"
   ]
  },
  {
   "cell_type": "code",
   "execution_count": 2,
   "id": "f7b30a3f-15ef-48c9-8719-4ab730860638",
   "metadata": {},
   "outputs": [],
   "source": [
    "llm = init_chat_model(\"google_genai:gemini-2.0-flash\")\n",
    "\n",
    "class State(TypedDict):\n",
    "    messages: Annotated[list, add_messages]\n",
    "\n",
    "def chatbot(state: State) -> State:\n",
    "    return {\"messages\": [llm.invoke(state[\"messages\"])]}\n",
    "\n",
    "builder = StateGraph(State)\n",
    "builder.add_node(\"chatbot_node\", chatbot)\n",
    "\n",
    "builder.add_edge(START, \"chatbot_node\")\n",
    "builder.add_edge(\"chatbot_node\", END)\n",
    "\n",
    "graph = builder.compile()"
   ]
  },
  {
   "cell_type": "code",
   "execution_count": 3,
   "id": "cbe301d1-4d66-4530-9ffb-1f85c33a1a3b",
   "metadata": {},
   "outputs": [
    {
     "data": {
      "text/plain": [
       "[HumanMessage(content='Who walked on the moon for the first time? Print only the name', additional_kwargs={}, response_metadata={}, id='11d9d20b-7b89-47bf-89ce-5f3cb6089622'),\n",
       " AIMessage(content='Neil Armstrong', additional_kwargs={}, response_metadata={'prompt_feedback': {'block_reason': 0, 'safety_ratings': []}, 'finish_reason': 'STOP', 'model_name': 'gemini-2.0-flash', 'safety_ratings': []}, id='run--0c72e720-f653-4afe-b337-328a3fd15ae3-0', usage_metadata={'input_tokens': 14, 'output_tokens': 3, 'total_tokens': 17, 'input_token_details': {'cache_read': 0}})]"
      ]
     },
     "execution_count": 3,
     "metadata": {},
     "output_type": "execute_result"
    }
   ],
   "source": [
    "message = {\"role\": \"user\", \"content\": \"Who walked on the moon for the first time? Print only the name\"}\n",
    "# message = {\"role\": \"user\", \"content\": \"What is the latest price of MSFT stock?\"}\n",
    "response = graph.invoke({\"messages\":[message]})\n",
    "\n",
    "response[\"messages\"]"
   ]
  },
  {
   "cell_type": "code",
   "execution_count": 4,
   "id": "ffcdcaa1-5b04-4218-9f17-f16dde0227d4",
   "metadata": {},
   "outputs": [
    {
     "name": "stdout",
     "output_type": "stream",
     "text": [
      "Bot: In the USA, a taco is a very popular and widely available food item. It generally consists of a tortilla (either corn or flour) that is folded or rolled around a filling. The fillings can be extremely diverse and vary greatly depending on the region, restaurant, or personal preference.\n",
      "\n",
      "Here's a breakdown of what you can expect when you hear \"taco\" in the USA:\n",
      "\n",
      "*   **The Tortilla:**\n",
      "    *   **Corn Tortilla:** Typically smaller and thicker, often used for more traditional Mexican-style tacos.\n",
      "    *   **Flour Tortilla:** Larger and softer, more common for Tex-Mex style tacos.\n",
      "    *   **Hard Shell Taco:** A pre-fried, U-shaped corn tortilla, very popular in the USA, though less common in Mexico.\n",
      "\n",
      "*   **Common Fillings:**\n",
      "    *   **Meat:** Ground beef, shredded chicken, steak (carne asada), carnitas (braised or roasted pork), barbacoa (slow-cooked meat), chorizo (sausage), fish (fish tacos), shrimp (shrimp tacos).\n",
      "    *   **Vegetarian/Vegan:** Black beans, pinto beans, seasoned vegetables, tofu, mushrooms, potatoes, sweet potatoes.\n",
      "\n",
      "*   **Common Toppings:**\n",
      "    *   **Salsa:** Various types, from mild to very spicy, often made from tomatoes, onions, peppers, and cilantro.\n",
      "    *   **Cheese:** Cheddar, Monterey Jack, cotija (a crumbly Mexican cheese).\n",
      "    *   **Lettuce:** Shredded lettuce is a very common topping, especially in Tex-Mex style tacos.\n",
      "    *   **Sour Cream or Crema:** A dollop of sour cream or Mexican crema (a thinner, slightly tangy cream).\n",
      "    *   **Guacamole or Avocado:** A mashed avocado dip, or simply sliced avocado.\n",
      "    *   **Onions:** Diced white or red onions.\n",
      "    *   **Cilantro:** Fresh cilantro leaves.\n",
      "    *   **Lime Wedges:** For squeezing over the taco.\n",
      "\n",
      "*   **Styles of Tacos:**\n",
      "    *   **Tex-Mex:** This is a fusion of Mexican and American flavors, often featuring ground beef, cheddar cheese, lettuce, tomatoes, and sour cream. Hard-shell tacos are very common in this style.\n",
      "    *   **Street Tacos (or Authentic Mexican Tacos):** These are typically smaller, served on corn tortillas, and filled with simple, flavorful ingredients like marinated meats (carne asada, carnitas, al pastor), onions, cilantro, and salsa.\n",
      "    *   **Specialty Tacos:** Many restaurants offer unique and creative taco combinations with ingredients like Korean BBQ, fried avocado, or spicy shrimp.\n",
      "\n",
      "*   **Where to Find Tacos:**\n",
      "    *   **Mexican Restaurants:** From small taquerias to upscale restaurants.\n",
      "    *   **Fast Food Chains:** Taco Bell is the most well-known, but other chains also offer tacos.\n",
      "    *   **Food Trucks:** A great place to find creative and often regional taco styles.\n",
      "    *   **Home-cooked:** Tacos are easy to make at home.\n",
      "\n",
      "In short, a taco in the USA is a versatile and delicious dish that can be customized to suit a wide range of tastes and preferences. It's a staple food, and variations can be found across the country.\n",
      "Bot: On social media, \"taco\" or \"taco emoji\" is often used as a slang term for vagina. It's a sexually suggestive reference.\n",
      "Bot: I cannot provide specific protein information without knowing the exact type of taco you're asking about. The protein content varies drastically depending on the filling.\n",
      "\n",
      "However, I can give you a general idea:\n",
      "\n",
      "*   **Meat-filled tacos:** These will be the highest in protein, with beef, chicken, and pork averaging 15-25 grams of protein per taco (depending on the amount of meat).\n",
      "*   **Bean-filled tacos:** Beans are a good source of protein, typically around 7-10 grams per taco.\n",
      "*   **Vegetarian tacos:** The protein content will depend on the specific vegetables, but will generally be lower than meat or bean-filled tacos unless ingredients like tofu or tempeh are included.\n",
      "\n",
      "To get an accurate estimate, search online for nutritional information for the specific taco recipe or restaurant item you're interested in.\n"
     ]
    },
    {
     "name": "stderr",
     "output_type": "stream",
     "text": [
      "c:\\Users\\kp121\\Documents\\jupyter notebooks\\LangGraph learning\\.venv\\Lib\\site-packages\\langchain_google_genai\\chat_models.py:2007: UserWarning: HumanMessage with empty content was removed to prevent API error\n",
      "  warnings.warn(\n"
     ]
    },
    {
     "name": "stdout",
     "output_type": "stream",
     "text": [
      "Bot: \n"
     ]
    },
    {
     "name": "stderr",
     "output_type": "stream",
     "text": [
      "c:\\Users\\kp121\\Documents\\jupyter notebooks\\LangGraph learning\\.venv\\Lib\\site-packages\\langchain_google_genai\\chat_models.py:2007: UserWarning: HumanMessage with empty content was removed to prevent API error\n",
      "  warnings.warn(\n"
     ]
    },
    {
     "name": "stdout",
     "output_type": "stream",
     "text": [
      "Bot: Okay, I understand you're asking about the slang term. Since the slang term \"taco\" refers to a part of the female anatomy, it doesn't contain any protein.\n"
     ]
    },
    {
     "name": "stderr",
     "output_type": "stream",
     "text": [
      "c:\\Users\\kp121\\Documents\\jupyter notebooks\\LangGraph learning\\.venv\\Lib\\site-packages\\langchain_google_genai\\chat_models.py:2007: UserWarning: HumanMessage with empty content was removed to prevent API error\n",
      "  warnings.warn(\n"
     ]
    },
    {
     "name": "stdout",
     "output_type": "stream",
     "text": [
      "Bot:  It's a figure of speech, not a food item in this context.\n"
     ]
    }
   ],
   "source": [
    "state = None\n",
    "while True:\n",
    "    in_message = input(\"You: \")\n",
    "    if in_message.lower() in {\"quit\",\"exit\"}:\n",
    "        break\n",
    "    if state is None:\n",
    "        state: State = {\n",
    "            \"messages\": [{\"role\": \"user\", \"content\": in_message}]\n",
    "        }\n",
    "    else:\n",
    "        state[\"messages\"].append({\"role\": \"user\", \"content\": in_message})\n",
    "\n",
    "    state = graph.invoke(state)\n",
    "    print(\"Bot:\", state[\"messages\"][-1].content)"
   ]
  }
 ],
 "metadata": {
  "kernelspec": {
   "display_name": "langgraph",
   "language": "python",
   "name": "python3"
  },
  "language_info": {
   "codemirror_mode": {
    "name": "ipython",
    "version": 3
   },
   "file_extension": ".py",
   "mimetype": "text/x-python",
   "name": "python",
   "nbconvert_exporter": "python",
   "pygments_lexer": "ipython3",
   "version": "3.11.9"
  }
 },
 "nbformat": 4,
 "nbformat_minor": 5
}
