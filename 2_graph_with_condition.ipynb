{
 "cells": [
  {
   "cell_type": "code",
   "execution_count": 20,
   "id": "f79697ad-f3a3-4649-ba2d-92e89542244b",
   "metadata": {},
   "outputs": [],
   "source": [
    "from typing import TypedDict, Literal"
   ]
  },
  {
   "cell_type": "code",
   "execution_count": 21,
   "id": "f7b30a3f-15ef-48c9-8719-4ab730860638",
   "metadata": {},
   "outputs": [],
   "source": [
    "class PortfolioState(TypedDict):\n",
    "    amount_usd: float\n",
    "    total_usd: float\n",
    "    target_currency: Literal[\"INR\", \"EUR\"]\n",
    "    total: float"
   ]
  },
  {
   "cell_type": "code",
   "execution_count": 22,
   "id": "b90fa25b-560a-4a03-a0da-cb0a8bc0a996",
   "metadata": {},
   "outputs": [],
   "source": [
    "def cal_tot(state: PortfolioState) -> PortfolioState:\n",
    "    state['total_usd'] = state['amount_usd'] * 1.08\n",
    "    return state\n",
    "\n",
    "def convert_to_inr(state: PortfolioState) -> PortfolioState:\n",
    "    state['total'] = state['total_usd'] * 85\n",
    "    return state\n",
    "\n",
    "def convert_to_eur(state: PortfolioState) -> PortfolioState:\n",
    "    state['total'] = state['total_usd'] * 0.9\n",
    "    return state\n",
    "\n",
    "def choose_conversion(state: PortfolioState) -> PortfolioState:\n",
    "    return state['target_currency']"
   ]
  },
  {
   "cell_type": "code",
   "execution_count": 23,
   "id": "0ba8682d-473c-44ae-b997-5eafc3ba2e54",
   "metadata": {},
   "outputs": [],
   "source": [
    "from langgraph.graph import StateGraph, START, END\n",
    "\n",
    "builder = StateGraph(PortfolioState)\n",
    "\n",
    "builder.add_node(\"cal_tot_node\", cal_tot)\n",
    "builder.add_node(\"convert_to_inr_node\", convert_to_inr)\n",
    "builder.add_node(\"convert_to_eur_node\", convert_to_eur)\n",
    "\n",
    "builder.add_edge(START, \"cal_tot_node\")\n",
    "builder.add_conditional_edges(\n",
    "    \"cal_tot_node\", \n",
    "    choose_conversion,{\n",
    "        \"INR\": \"convert_to_inr_node\",\n",
    "        \"EUR\": \"convert_to_eur_node\"\n",
    "    }\n",
    "    )\n",
    "builder.add_edge([\"convert_to_inr_node\", \"convert_to_eur_node\"], END)\n",
    "\n",
    "graph = builder.compile()"
   ]
  },
  {
   "cell_type": "code",
   "execution_count": 24,
   "id": "cbe301d1-4d66-4530-9ffb-1f85c33a1a3b",
   "metadata": {},
   "outputs": [
    {
     "data": {
      "image/png": "[encoded data removed]",
      "text/plain": [
       "<IPython.core.display.Image object>"
      ]
     },
     "metadata": {},
     "output_type": "display_data"
    }
   ],
   "source": [
    "\n",
    "from IPython.display import Image, display\n",
    "\n",
    "display(Image(graph.get_graph().draw_mermaid_png()))"
   ]
  },
  {
   "cell_type": "code",
   "execution_count": 25,
   "id": "ffcdcaa1-5b04-4218-9f17-f16dde0227d4",
   "metadata": {},
   "outputs": [
    {
     "data": {
      "text/plain": [
       "{'amount_usd': 1000,\n",
       " 'total_usd': 1080.0,\n",
       " 'target_currency': 'EUR',\n",
       " 'total': 972.0}"
      ]
     },
     "execution_count": 25,
     "metadata": {},
     "output_type": "execute_result"
    }
   ],
   "source": [
    "graph.invoke({\"amount_usd\": 1000, \"target_currency\": \"EUR\"})"
   ]
  },
  {
   "cell_type": "code",
   "execution_count": 26,
   "id": "4e712b09",
   "metadata": {},
   "outputs": [
    {
     "data": {
      "text/plain": [
       "{'amount_usd': 1000,\n",
       " 'total_usd': 1080.0,\n",
       " 'target_currency': 'INR',\n",
       " 'total': 91800.0}"
      ]
     },
     "execution_count": 26,
     "metadata": {},
     "output_type": "execute_result"
    }
   ],
   "source": [
    "graph.invoke({\"amount_usd\": 1000, \"target_currency\": \"INR\"})"
   ]
  }
 ],
 "metadata": {
  "kernelspec": {
   "display_name": "langgraph",
   "language": "python",
   "name": "python3"
  },
  "language_info": {
   "codemirror_mode": {
    "name": "ipython",
    "version": 3
   },
   "file_extension": ".py",
   "mimetype": "text/x-python",
   "name": "python",
   "nbconvert_exporter": "python",
   "pygments_lexer": "ipython3",
   "version": "3.11.9"
  }
 },
 "nbformat": 4,
 "nbformat_minor": 5
}
